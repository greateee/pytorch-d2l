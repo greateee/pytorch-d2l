{
 "cells": [
  {
   "cell_type": "markdown",
   "id": "1069a72a",
   "metadata": {
    "origin_pos": 0
   },
   "source": [
    "# `d2l` API 文档\n",
    ":label:`sec_d2l`\n",
    "\n",
    "`d2l`包以下成员的实现及其定义和解释部分可在[源文件](https://github.com/d2l-ai/d2l-en/tree/master/d2l)中找到。\n"
   ]
  },
  {
   "cell_type": "markdown",
   "id": "c81dbb31",
   "metadata": {
    "origin_pos": 2,
    "tab": [
     "pytorch"
    ]
   },
   "source": [
    "```eval_rst\n",
    ".. currentmodule:: d2l.torch\n",
    "```\n"
   ]
  },
  {
   "cell_type": "markdown",
   "id": "7f0df80c",
   "metadata": {
    "origin_pos": 5
   },
   "source": [
    "## 模型\n",
    "\n",
    "```eval_rst\n",
    ".. autoclass:: Module\n",
    "   :members:\n",
    "\n",
    ".. autoclass:: LinearRegressionScratch\n",
    "   :members:\n",
    "\n",
    ".. autoclass:: LinearRegression\n",
    "   :members:\n",
    "\n",
    ".. autoclass:: Classification\n",
    "   :members:\n",
    "```\n",
    "\n",
    "## 数据\n",
    "\n",
    "```eval_rst\n",
    ".. autoclass:: DataModule\n",
    "   :members:\n",
    "\n",
    ".. autoclass:: SyntheticRegressionData\n",
    "   :members:\n",
    "\n",
    ".. autoclass:: FashionMNIST\n",
    "   :members:\n",
    "```\n",
    "\n",
    "## 训练\n",
    "\n",
    "```eval_rst\n",
    ".. autoclass:: Trainer\n",
    "   :members:\n",
    "\n",
    ".. autoclass:: SGD\n",
    "   :members:\n",
    "```\n",
    "\n",
    "## 公用\n",
    "\n",
    "```eval_rst\n",
    ".. autofunction:: add_to_class\n",
    "\n",
    ".. autofunction:: cpu\n",
    "\n",
    ".. autofunction:: gpu\n",
    "\n",
    ".. autofunction:: num_gpus\n",
    "\n",
    ".. autoclass:: ProgressBoard\n",
    "   :members:\n",
    "\n",
    ".. autoclass:: HyperParameters\n",
    "   :members:\n",
    "```\n"
   ]
  },
  {
   "cell_type": "code",
   "execution_count": null,
   "id": "472e2694",
   "metadata": {},
   "outputs": [],
   "source": []
  }
 ],
 "metadata": {
  "kernelspec": {
   "display_name": "Python 3 (ipykernel)",
   "language": "python",
   "name": "python3"
  },
  "language_info": {
   "codemirror_mode": {
    "name": "ipython",
    "version": 3
   },
   "file_extension": ".py",
   "mimetype": "text/x-python",
   "name": "python",
   "nbconvert_exporter": "python",
   "pygments_lexer": "ipython3",
   "version": "3.9.19"
  },
  "required_libs": []
 },
 "nbformat": 4,
 "nbformat_minor": 5
}
